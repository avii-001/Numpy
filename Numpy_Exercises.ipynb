{
  "nbformat": 4,
  "nbformat_minor": 0,
  "metadata": {
    "colab": {
      "provenance": [],
      "authorship_tag": "ABX9TyN3kadcr7G1RJi6+jNebH4U",
      "include_colab_link": true
    },
    "kernelspec": {
      "name": "python3",
      "display_name": "Python 3"
    },
    "language_info": {
      "name": "python"
    }
  },
  "cells": [
    {
      "cell_type": "markdown",
      "metadata": {
        "id": "view-in-github",
        "colab_type": "text"
      },
      "source": [
        "<a href=\"https://colab.research.google.com/github/avii-001/Numpy/blob/main/Numpy_Exercises.ipynb\" target=\"_parent\"><img src=\"https://colab.research.google.com/assets/colab-badge.svg\" alt=\"Open In Colab\"/></a>"
      ]
    },
    {
      "cell_type": "code",
      "source": [
        "import numpy as np\n",
        "import pandas as pd"
      ],
      "metadata": {
        "id": "QBb8zrLq7HZQ"
      },
      "execution_count": null,
      "outputs": []
    },
    {
      "cell_type": "code",
      "source": [
        "# Numpy Exercises\n",
        "# Multiply the following two NumPy arrays element-wise: [1, 2, 3] and [4, 5, 6], and print the result.\n",
        "array1=np.array([1, 2, 3])\n",
        "array2=np.array([4, 5, 6])\n",
        "mul_arr=array1*array2\n",
        "mul_arr"
      ],
      "metadata": {
        "colab": {
          "base_uri": "https://localhost:8080/"
        },
        "id": "LFN3szvH6JcD",
        "outputId": "44aba4c9-8e96-4536-cc85-ea26dce0ba06"
      },
      "execution_count": null,
      "outputs": [
        {
          "output_type": "execute_result",
          "data": {
            "text/plain": [
              "array([ 4, 10, 18])"
            ]
          },
          "metadata": {},
          "execution_count": 3
        }
      ]
    },
    {
      "cell_type": "code",
      "source": [
        "# Calculate the mean of the following NumPy array: [3, 7, 10, 15, 19], and print the result.\n",
        "arr3=np.array([3, 7, 10, 15, 19])\n",
        "print(f'Mean of {arr3} ={np.mean(arr3)}')"
      ],
      "metadata": {
        "colab": {
          "base_uri": "https://localhost:8080/"
        },
        "id": "PoOMwpX-62XV",
        "outputId": "92a27afd-972b-4e91-f42b-b8463ce9cff1"
      },
      "execution_count": null,
      "outputs": [
        {
          "output_type": "stream",
          "name": "stdout",
          "text": [
            "Mean of [ 3  7 10 15 19] =10.8\n"
          ]
        }
      ]
    },
    {
      "cell_type": "code",
      "source": [
        "# Reshape the following NumPy array into a 2x3 matrix: [1, 2, 3, 4, 5, 6].\n",
        "arr=np.array([1, 2, 3, 4, 5, 6])\n",
        "arr.reshape((2,3))"
      ],
      "metadata": {
        "colab": {
          "base_uri": "https://localhost:8080/"
        },
        "id": "6mrPGuhn8tTa",
        "outputId": "90d984fb-6a31-4c28-dcd2-ede70bb70b70"
      },
      "execution_count": null,
      "outputs": [
        {
          "output_type": "execute_result",
          "data": {
            "text/plain": [
              "array([[1, 2, 3],\n",
              "       [4, 5, 6]])"
            ]
          },
          "metadata": {},
          "execution_count": 5
        }
      ]
    },
    {
      "cell_type": "code",
      "source": [
        "# Find the maximum value in the following NumPy array: [9, 2, 7, 5, 3], and print it.\n",
        "arr=np.array([9, 2, 7, 5, 3])\n",
        "print(f'Max value in {arr} is {np.max(arr)}')"
      ],
      "metadata": {
        "colab": {
          "base_uri": "https://localhost:8080/"
        },
        "id": "I9yPLgBH9Ccg",
        "outputId": "4713d163-466e-47cb-930a-b21391bb3c36"
      },
      "execution_count": null,
      "outputs": [
        {
          "output_type": "stream",
          "name": "stdout",
          "text": [
            "Max value in [9 2 7 5 3] is 9\n"
          ]
        }
      ]
    },
    {
      "cell_type": "code",
      "source": [
        "# More exercises\n",
        "\n",
        "# Create a 2D NumPy array with shape (5, 5) containing random integers between 1 and 100.\n",
        "arr5=np.random.randint(1,100,(5,5))\n",
        "arr5"
      ],
      "metadata": {
        "colab": {
          "base_uri": "https://localhost:8080/"
        },
        "id": "SqYTTm2q9VqT",
        "outputId": "f3928df0-39d1-412f-97d4-f0d0bfb85e8e"
      },
      "execution_count": null,
      "outputs": [
        {
          "output_type": "execute_result",
          "data": {
            "text/plain": [
              "array([[92, 46, 41, 54, 73],\n",
              "       [ 4, 27, 14, 94, 66],\n",
              "       [35, 41, 32, 28,  6],\n",
              "       [45,  6, 64, 12, 71],\n",
              "       [95, 25, 96, 91,  4]])"
            ]
          },
          "metadata": {},
          "execution_count": 7
        }
      ]
    },
    {
      "cell_type": "code",
      "source": [
        "# Replace all values greater than 50 with 0 and print the modified array.\n",
        "arr5[arr5>50]=0\n",
        "arr5"
      ],
      "metadata": {
        "colab": {
          "base_uri": "https://localhost:8080/"
        },
        "id": "C82vyzvF9eeh",
        "outputId": "8f23725f-c1c0-4a1d-95a8-0299b1f14650"
      },
      "execution_count": null,
      "outputs": [
        {
          "output_type": "execute_result",
          "data": {
            "text/plain": [
              "array([[ 0, 46, 41,  0,  0],\n",
              "       [ 4, 27, 14,  0,  0],\n",
              "       [35, 41, 32, 28,  6],\n",
              "       [45,  6,  0, 12,  0],\n",
              "       [ 0, 25,  0,  0,  4]])"
            ]
          },
          "metadata": {},
          "execution_count": 8
        }
      ]
    },
    {
      "cell_type": "code",
      "source": [
        "# Create a 1D NumPy array with 20 elements ranging from 0 to 100. Reshape the array into a 4x5 matrix and print it.\n",
        "arr6=np.random.randint(1,100,(1,20))\n",
        "print(f'New random array\\n{arr6}')\n",
        "arr7=arr6.reshape((4,5))\n",
        "print(f'\\nReshaped array\\n{arr7}')"
      ],
      "metadata": {
        "colab": {
          "base_uri": "https://localhost:8080/"
        },
        "id": "Fxh1i0vh98tr",
        "outputId": "f04bed5a-dd06-4ef8-be09-4d7a23cbc2b2"
      },
      "execution_count": null,
      "outputs": [
        {
          "output_type": "stream",
          "name": "stdout",
          "text": [
            "New random array\n",
            "[[75 25 32 89 15 23 50 62 54 54 54  3 91 37 27 41 39 76 17 66]]\n",
            "\n",
            "Reshaped array\n",
            "[[75 25 32 89 15]\n",
            " [23 50 62 54 54]\n",
            " [54  3 91 37 27]\n",
            " [41 39 76 17 66]]\n"
          ]
        }
      ]
    },
    {
      "cell_type": "code",
      "source": [
        "# Create a 3x3 matrix with random values between 0 and 1. Replace all values less than 0.5 with 0 and print the modified matrix.\n",
        "arr8=np.random.random((3,3))"
      ],
      "metadata": {
        "id": "HBOndjJC-RbK"
      },
      "execution_count": null,
      "outputs": []
    },
    {
      "cell_type": "code",
      "source": [
        "arr8[arr8<0.5]=0\n",
        "arr8"
      ],
      "metadata": {
        "colab": {
          "base_uri": "https://localhost:8080/"
        },
        "id": "ZHlyS2pc_MYs",
        "outputId": "091b8ad0-0f12-43ea-eb0c-0a296c81e95e"
      },
      "execution_count": null,
      "outputs": [
        {
          "output_type": "execute_result",
          "data": {
            "text/plain": [
              "array([[0.        , 0.        , 0.        ],\n",
              "       [0.78613223, 0.8381241 , 0.92922875],\n",
              "       [0.        , 0.        , 0.51910651]])"
            ]
          },
          "metadata": {},
          "execution_count": 11
        }
      ]
    },
    {
      "cell_type": "code",
      "source": [
        "# Create a 1D NumPy array with 100 elements ranging from 1 to 100. Reshape the array into a 10x10 matrix and calculate the sum of each row.\n",
        "# Print the sum.\n",
        "arr9=np.random.randint(1,101,(1,100))\n",
        "print(arr9)\n",
        "print()\n",
        "arr10=arr9.reshape((10,10))\n",
        "print(arr10)\n",
        "print(f'\\nSum of each row: {arr10.sum(axis=1)}')"
      ],
      "metadata": {
        "colab": {
          "base_uri": "https://localhost:8080/"
        },
        "id": "tEqwbzsMAKqC",
        "outputId": "c02cd0e7-751b-4e51-f845-317407f44d38"
      },
      "execution_count": null,
      "outputs": [
        {
          "output_type": "stream",
          "name": "stdout",
          "text": [
            "[[41 40 23 25 52 87 62 48 57 70 57 93  1 63 63 46 22 12  4 63 72 82 13 65\n",
            "  79 15 30 77 96  4 73 99 39 15 26 22 35 77 91 52 21 22 89 63 82 87 28 41\n",
            "  83 44 11 73 61 14 13 89 84 41 84 10 54 57 59 10 48 54 65 54 32 16 16 59\n",
            "  31 49 60 59 56 50 44 84 49 53 56  9  2 54 35 86 59 41 42 64 21 26 61  1\n",
            "  14 54 99 35]]\n",
            "\n",
            "[[41 40 23 25 52 87 62 48 57 70]\n",
            " [57 93  1 63 63 46 22 12  4 63]\n",
            " [72 82 13 65 79 15 30 77 96  4]\n",
            " [73 99 39 15 26 22 35 77 91 52]\n",
            " [21 22 89 63 82 87 28 41 83 44]\n",
            " [11 73 61 14 13 89 84 41 84 10]\n",
            " [54 57 59 10 48 54 65 54 32 16]\n",
            " [16 59 31 49 60 59 56 50 44 84]\n",
            " [49 53 56  9  2 54 35 86 59 41]\n",
            " [42 64 21 26 61  1 14 54 99 35]]\n",
            "\n",
            "Sum of each row: [505 424 533 529 560 480 449 508 444 417]\n"
          ]
        }
      ]
    },
    {
      "cell_type": "code",
      "source": [
        "# Create a 2D NumPy array with shape (4, 4) containing random integers between 1 and 10. Find the indices of the maximum value in each row and\n",
        "# print the indices.\n",
        "arr11=np.random.randint(1,11,(4,4))\n",
        "print(arr11)\n",
        "\n",
        "print('\\nMaximum of each row')\n",
        "print(arr11.max(axis=1))\n",
        "\n",
        "print('\\nIndices of maximum of each row')\n",
        "print(arr11.argmax(axis=1))"
      ],
      "metadata": {
        "colab": {
          "base_uri": "https://localhost:8080/"
        },
        "id": "DWoYNfqvEyyU",
        "outputId": "62d56674-d389-4e23-d6ec-3602e48aa4ca"
      },
      "execution_count": null,
      "outputs": [
        {
          "output_type": "stream",
          "name": "stdout",
          "text": [
            "[[ 8  3  9  6]\n",
            " [ 7  7 10  9]\n",
            " [10  9  2  3]\n",
            " [ 2  9  7 10]]\n",
            "\n",
            "Maximum of each row\n",
            "[ 9 10 10 10]\n",
            "\n",
            "Indices of maximum of each row\n",
            "[2 2 0 3]\n"
          ]
        }
      ]
    },
    {
      "cell_type": "code",
      "source": [
        "# Create a 1D NumPy array with 50 random elements randomly. Calculate the mean and standard deviation of the array and print the results.\n",
        "arr12=np.random.randint(1,100,(1,50))\n",
        "print(arr12)\n",
        "print(f'Mean: {arr12.mean()}')\n",
        "print(f'Standard Deviation: {arr12.std():.2f}')"
      ],
      "metadata": {
        "colab": {
          "base_uri": "https://localhost:8080/"
        },
        "id": "whDKARdwExJa",
        "outputId": "d6d6a787-51f6-4959-d861-fd46e2ac3c63"
      },
      "execution_count": null,
      "outputs": [
        {
          "output_type": "stream",
          "name": "stdout",
          "text": [
            "[[64 21 81 88 51 48 53 48 57 29 62 86 15 23 30 90 13 79 44 21 76 30 73  9\n",
            "  17 95 50 47 11 23 66 39 14 88 82 81 59 53 88 91 63 60 68  1 58 13 24 12\n",
            "  89 63]]\n",
            "Mean: 50.92\n",
            "Standard Deviation: 27.42\n"
          ]
        }
      ]
    },
    {
      "cell_type": "code",
      "source": [
        "# Create a 2D NumPy array with shape (3, 3) and fill it with values ranging from 0 to 8. Shuffle the rows randomly and\n",
        "# print the shuffled array.\n",
        "arr13=np.random.randint(0,8,(3,3))\n",
        "print(arr13)"
      ],
      "metadata": {
        "colab": {
          "base_uri": "https://localhost:8080/"
        },
        "id": "jFzIdzswIQVi",
        "outputId": "5222be2e-af78-43b2-bff4-821b6e6b9fe1"
      },
      "execution_count": null,
      "outputs": [
        {
          "output_type": "stream",
          "name": "stdout",
          "text": [
            "[[5 4 4]\n",
            " [6 0 4]\n",
            " [2 7 0]]\n"
          ]
        }
      ]
    },
    {
      "cell_type": "code",
      "source": [
        "np.random.shuffle(arr13)\n",
        "print(arr13)"
      ],
      "metadata": {
        "colab": {
          "base_uri": "https://localhost:8080/"
        },
        "id": "SQf4-s6wJTmE",
        "outputId": "54d3476a-751c-4b4b-8382-3c2ded29eee7"
      },
      "execution_count": null,
      "outputs": [
        {
          "output_type": "stream",
          "name": "stdout",
          "text": [
            "[[2 7 0]\n",
            " [6 0 4]\n",
            " [5 4 4]]\n"
          ]
        }
      ]
    },
    {
      "cell_type": "code",
      "source": [
        "# Create a 1D NumPy array with 100 elements ranging from 1 to 10. Replace all odd values with -1 and print the modified array.\n",
        "arr14=np.random.randint(1,11,100)\n",
        "arr14"
      ],
      "metadata": {
        "colab": {
          "base_uri": "https://localhost:8080/"
        },
        "id": "7rctyrZ6JfYx",
        "outputId": "4c814cbf-3d1a-471c-8316-f9a76d115c5e"
      },
      "execution_count": null,
      "outputs": [
        {
          "output_type": "execute_result",
          "data": {
            "text/plain": [
              "array([ 2,  4, 10,  5,  6,  8,  9,  3,  3, 10,  8,  3,  5, 10,  1,  2, 10,\n",
              "        2,  9,  6,  8,  1,  9,  8,  5,  4,  3,  5,  3,  4,  4,  8,  5,  6,\n",
              "        7,  2,  3,  6, 10,  2,  2,  9,  2,  3,  2,  4,  6,  8,  1,  1,  4,\n",
              "        5,  8,  1,  8,  3,  7, 10,  6,  6,  3,  7,  7,  3,  9,  6,  2,  3,\n",
              "        5,  7,  1,  3,  7,  2, 10,  5,  5,  5,  3,  6,  9,  1,  3,  6,  7,\n",
              "        1,  1,  4,  4,  3,  4,  9,  5,  8,  2,  1,  8,  8,  5,  7])"
            ]
          },
          "metadata": {},
          "execution_count": 17
        }
      ]
    },
    {
      "cell_type": "code",
      "source": [
        "arr14[arr14%2==1]=-1\n",
        "arr14"
      ],
      "metadata": {
        "colab": {
          "base_uri": "https://localhost:8080/"
        },
        "id": "3IlAJVPQKAoh",
        "outputId": "76576521-1e8a-4787-be93-892047bffce1"
      },
      "execution_count": null,
      "outputs": [
        {
          "output_type": "execute_result",
          "data": {
            "text/plain": [
              "array([ 2,  4, 10, -1,  6,  8, -1, -1, -1, 10,  8, -1, -1, 10, -1,  2, 10,\n",
              "        2, -1,  6,  8, -1, -1,  8, -1,  4, -1, -1, -1,  4,  4,  8, -1,  6,\n",
              "       -1,  2, -1,  6, 10,  2,  2, -1,  2, -1,  2,  4,  6,  8, -1, -1,  4,\n",
              "       -1,  8, -1,  8, -1, -1, 10,  6,  6, -1, -1, -1, -1, -1,  6,  2, -1,\n",
              "       -1, -1, -1, -1, -1,  2, 10, -1, -1, -1, -1,  6, -1, -1, -1,  6, -1,\n",
              "       -1, -1,  4,  4, -1,  4, -1, -1,  8,  2, -1,  8,  8, -1, -1])"
            ]
          },
          "metadata": {},
          "execution_count": 18
        }
      ]
    },
    {
      "cell_type": "code",
      "source": [
        "# Create a 3x3 matrix with random values between 0 and 1. Normalize the matrix by dividing each row by the sum of its elements and\n",
        "# print the normalized matrix.\n",
        "arr15=np.random.random((3,3))\n",
        "arr15"
      ],
      "metadata": {
        "colab": {
          "base_uri": "https://localhost:8080/"
        },
        "id": "sC0ZuR0FKZmJ",
        "outputId": "4da50e9e-c082-4fff-9cd8-681daa7f7d72"
      },
      "execution_count": null,
      "outputs": [
        {
          "output_type": "execute_result",
          "data": {
            "text/plain": [
              "array([[0.17934646, 0.79082143, 0.30591171],\n",
              "       [0.46403941, 0.00512039, 0.98420146],\n",
              "       [0.67803916, 0.37797785, 0.00640726]])"
            ]
          },
          "metadata": {},
          "execution_count": 19
        }
      ]
    },
    {
      "cell_type": "code",
      "source": [
        "norm=arr15.sum(axis=1)\n",
        "norm"
      ],
      "metadata": {
        "colab": {
          "base_uri": "https://localhost:8080/"
        },
        "id": "DRrhViFbKx5C",
        "outputId": "83b0a5b2-27b3-43a9-a92d-94f524aaa847"
      },
      "execution_count": null,
      "outputs": [
        {
          "output_type": "execute_result",
          "data": {
            "text/plain": [
              "array([1.2760796 , 1.45336126, 1.06242427])"
            ]
          },
          "metadata": {},
          "execution_count": 20
        }
      ]
    },
    {
      "cell_type": "code",
      "source": [
        "div=np.divide(arr15,norm)\n",
        "div"
      ],
      "metadata": {
        "colab": {
          "base_uri": "https://localhost:8080/"
        },
        "id": "c--yiqjZLGn8",
        "outputId": "9c7d1a79-e152-4dec-b99e-a3144d84a6aa"
      },
      "execution_count": null,
      "outputs": [
        {
          "output_type": "execute_result",
          "data": {
            "text/plain": [
              "array([[0.14054488, 0.54413273, 0.28793742],\n",
              "       [0.36364456, 0.00352314, 0.92637328],\n",
              "       [0.5313455 , 0.26007151, 0.0060308 ]])"
            ]
          },
          "metadata": {},
          "execution_count": 21
        }
      ]
    },
    {
      "cell_type": "code",
      "source": [
        "# Create a 2D NumPy array with shape (5, 5) and fill it with random values between 0 and 1. Sort the elements in each column in descending order\n",
        "#  and print the sorted array.\n"
      ],
      "metadata": {
        "id": "osyM3S5tLTqT"
      },
      "execution_count": null,
      "outputs": []
    },
    {
      "cell_type": "code",
      "source": [
        "arr16=np.random.random((5,5))\n",
        "arr16"
      ],
      "metadata": {
        "colab": {
          "base_uri": "https://localhost:8080/"
        },
        "id": "Lwe_NZD8L5ws",
        "outputId": "60919431-b275-48b4-f569-fb098a200266"
      },
      "execution_count": null,
      "outputs": [
        {
          "output_type": "execute_result",
          "data": {
            "text/plain": [
              "array([[0.90127832, 0.01394339, 0.47696783, 0.05424043, 0.2095671 ],\n",
              "       [0.61360943, 0.10585712, 0.37072986, 0.80619858, 0.14611452],\n",
              "       [0.22353447, 0.17930188, 0.47560751, 0.06119202, 0.71019273],\n",
              "       [0.36757011, 0.94464287, 0.23261438, 0.34150927, 0.09998277],\n",
              "       [0.14800066, 0.26648492, 0.92799387, 0.31864275, 0.60777638]])"
            ]
          },
          "metadata": {},
          "execution_count": 23
        }
      ]
    },
    {
      "cell_type": "code",
      "source": [
        "arr16.sort(axis=0)\n",
        "arr16[::-1]"
      ],
      "metadata": {
        "colab": {
          "base_uri": "https://localhost:8080/"
        },
        "id": "hEeeyvsjL-n5",
        "outputId": "936f68a0-cef7-487b-c997-bf0f1992a4e3"
      },
      "execution_count": null,
      "outputs": [
        {
          "output_type": "execute_result",
          "data": {
            "text/plain": [
              "array([[0.90127832, 0.94464287, 0.92799387, 0.80619858, 0.71019273],\n",
              "       [0.61360943, 0.26648492, 0.47696783, 0.34150927, 0.60777638],\n",
              "       [0.36757011, 0.17930188, 0.47560751, 0.31864275, 0.2095671 ],\n",
              "       [0.22353447, 0.10585712, 0.37072986, 0.06119202, 0.14611452],\n",
              "       [0.14800066, 0.01394339, 0.23261438, 0.05424043, 0.09998277]])"
            ]
          },
          "metadata": {},
          "execution_count": 27
        }
      ]
    }
  ]
}