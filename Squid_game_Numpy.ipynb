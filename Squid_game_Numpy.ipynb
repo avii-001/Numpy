{
  "nbformat": 4,
  "nbformat_minor": 0,
  "metadata": {
    "colab": {
      "provenance": [],
      "authorship_tag": "ABX9TyNf43mpvQ3kN8VPBir8e1Mq",
      "include_colab_link": true
    },
    "kernelspec": {
      "name": "python3",
      "display_name": "Python 3"
    },
    "language_info": {
      "name": "python"
    }
  },
  "cells": [
    {
      "cell_type": "markdown",
      "metadata": {
        "id": "view-in-github",
        "colab_type": "text"
      },
      "source": [
        "<a href=\"https://colab.research.google.com/github/avii-001/Numpy/blob/main/Squid_game_Numpy.ipynb\" target=\"_parent\"><img src=\"https://colab.research.google.com/assets/colab-badge.svg\" alt=\"Open In Colab\"/></a>"
      ]
    },
    {
      "cell_type": "code",
      "source": [
        "import numpy as np\n",
        "import pandas as pd"
      ],
      "metadata": {
        "id": "l7497PZM2veJ"
      },
      "execution_count": null,
      "outputs": []
    },
    {
      "cell_type": "code",
      "source": [
        "# Squid Game NumPy Challenges - Questions\n",
        "# 1. Red Light, Green Light\n",
        "# Create a 1D NumPy array of 10 random integers between 1 and 100, representing players' distances.\n",
        "# Identify which players stopped when the distance is less than or equal to 50. Print the results.\n",
        "\n",
        "# 2. Honeycomb Challenge\n",
        "# Create a 4x4 NumPy array with random integers between 1 and 9.\n",
        "# Extract and print a specific shape (e.g., a cross or L-shape) from the array using slicing.\n",
        "\n",
        "# 3. Tug of War\n",
        "# Create two 1D NumPy arrays of 5 random integers each, representing two teams' strengths.\n",
        "# Calculate the total strength of each team.\n",
        "# Determine and print which team wins or if it’s a tie.\n",
        "\n",
        "# 4. Marble Game\n",
        "# Create a 1D NumPy array with 10 random integers between -5 and 5, representing marbles won (+) or lost (-) by players.\n",
        "# Calculate the total marbles at the end and print the result.\n",
        "\n",
        "# 5. Glass Bridge\n",
        "# Create a 1D NumPy array of size 10 with random 0s (broken) and 1s (safe), representing the glass bridge.\n",
        "# Simulate 10 random steps through the bridge.\n",
        "# Check and print if the player survives (steps land only on 1s) or falls (steps land on 0s).\n"
      ],
      "metadata": {
        "id": "UmIY_9gM3OL1"
      },
      "execution_count": null,
      "outputs": []
    },
    {
      "cell_type": "code",
      "source": [
        "# Squid Game NumPy Challenges - Questions\n",
        "# 1. Red Light, Green Light\n",
        "# Create a 1D NumPy array of 10 random integers between 1 and 100, representing players' distances.\n",
        "# Identify which players stopped when the distance is less than or equal to 50. Print the results.\n",
        "\n",
        "red_green_light=np.random.randint(1,101,(1,10))\n",
        "print('Players')\n",
        "print(red_green_light)\n",
        "print('\\nPlayers who stopped before or at 50')\n",
        "red_green_light<=50"
      ],
      "metadata": {
        "colab": {
          "base_uri": "https://localhost:8080/"
        },
        "id": "cjRPvZLU9k5G",
        "outputId": "773e4bdb-c145-473f-e857-f68f5adbd745"
      },
      "execution_count": null,
      "outputs": [
        {
          "output_type": "stream",
          "name": "stdout",
          "text": [
            "Players\n",
            "[[43 64 87 86 42 22 85 34 94 77]]\n",
            "\n",
            "Players who stopped before or at 50\n"
          ]
        },
        {
          "output_type": "execute_result",
          "data": {
            "text/plain": [
              "array([[ True, False, False, False,  True,  True, False,  True, False,\n",
              "        False]])"
            ]
          },
          "metadata": {},
          "execution_count": 22
        }
      ]
    },
    {
      "cell_type": "code",
      "source": [
        "# 2. Honeycomb Challenge\n",
        "# Create a 4x4 NumPy array with random integers between 1 and 9.\n",
        "# Extract and print a specific shape (e.g., a cross or L-shape) from the array using slicing.\n",
        "honey_comb=np.random.randint(1,10,(4,4))\n",
        "print(honey_comb)\n",
        "honey_comb[:,1:3]"
      ],
      "metadata": {
        "colab": {
          "base_uri": "https://localhost:8080/"
        },
        "id": "8ypJ-R3R-qns",
        "outputId": "33459ae3-9201-4471-e85e-9902f2605c12"
      },
      "execution_count": null,
      "outputs": [
        {
          "output_type": "stream",
          "name": "stdout",
          "text": [
            "[[3 6 6 2]\n",
            " [7 9 2 3]\n",
            " [8 6 8 7]\n",
            " [2 1 6 3]]\n"
          ]
        },
        {
          "output_type": "execute_result",
          "data": {
            "text/plain": [
              "array([[6, 6],\n",
              "       [9, 2],\n",
              "       [6, 8],\n",
              "       [1, 6]])"
            ]
          },
          "metadata": {},
          "execution_count": 25
        }
      ]
    },
    {
      "cell_type": "code",
      "source": [
        "# 3. Tug of War\n",
        "# Create two 1D NumPy arrays of 5 random integers each, representing two teams' strengths.\n",
        "# Calculate the total strength of each team.\n",
        "# Determine and print which team wins or if it’s a tie.\n",
        "\n",
        "team1=np.random.randint(1,10,(1,6))\n",
        "team2=np.random.randint(1,10,(1,6))\n",
        "print(team1,team2)"
      ],
      "metadata": {
        "colab": {
          "base_uri": "https://localhost:8080/"
        },
        "id": "90EDQ6wy_nDX",
        "outputId": "2d22d633-f12f-4965-8404-c774a48da4ff"
      },
      "execution_count": null,
      "outputs": [
        {
          "output_type": "stream",
          "name": "stdout",
          "text": [
            "[[9 8 4 1 8 4]] [[8 1 9 3 9 3]]\n"
          ]
        }
      ]
    },
    {
      "cell_type": "code",
      "source": [
        "team1_strength=np.sum(team1)\n",
        "team2_strength=np.sum(team2)\n",
        "print(f'team1_strength:{team1_strength}')\n",
        "print(f'team2_strength:{team2_strength}')"
      ],
      "metadata": {
        "colab": {
          "base_uri": "https://localhost:8080/"
        },
        "id": "It4g7NUUBH2z",
        "outputId": "c75110af-18b4-408b-c077-edc3044f86a1"
      },
      "execution_count": null,
      "outputs": [
        {
          "output_type": "stream",
          "name": "stdout",
          "text": [
            "team1_strength:34\n",
            "team2_strength:33\n"
          ]
        }
      ]
    },
    {
      "cell_type": "code",
      "source": [
        "result='Its a Tie' if team1_strength==team2_strength else ('Winner is Team 1 ' if team1_strength>team2_strength else 'Winner is Team 2')\n",
        "result"
      ],
      "metadata": {
        "colab": {
          "base_uri": "https://localhost:8080/",
          "height": 35
        },
        "id": "OZqJksaFBZ86",
        "outputId": "b2ea75c1-a113-4760-e3af-78b41fc76104"
      },
      "execution_count": null,
      "outputs": [
        {
          "output_type": "execute_result",
          "data": {
            "text/plain": [
              "'Winner is Team 1 '"
            ],
            "application/vnd.google.colaboratory.intrinsic+json": {
              "type": "string"
            }
          },
          "metadata": {},
          "execution_count": 79
        }
      ]
    },
    {
      "cell_type": "code",
      "source": [
        "# 4. Marble Game\n",
        "# Create a 1D NumPy array with 10 random integers between -5 and 5, representing marbles won (+) or lost (-) by players.\n",
        "# Calculate the total marbles at the end and print the result.\n",
        "\n",
        "marbles=np.random.randint(-5,6,(1,10))\n",
        "print(marbles)"
      ],
      "metadata": {
        "colab": {
          "base_uri": "https://localhost:8080/"
        },
        "id": "KwXohUA4CTwR",
        "outputId": "7b555b6b-f923-49fc-9258-759cdc2e2e04"
      },
      "execution_count": null,
      "outputs": [
        {
          "output_type": "stream",
          "name": "stdout",
          "text": [
            "[[-3  2  3  0 -4 -5 -4 -3  0 -2]]\n"
          ]
        }
      ]
    },
    {
      "cell_type": "code",
      "source": [
        "marble_sum=np.sum(marbles)\n",
        "print(f'Total marbles: {marble_sum}')"
      ],
      "metadata": {
        "colab": {
          "base_uri": "https://localhost:8080/"
        },
        "id": "NUs9R-exCzTu",
        "outputId": "e3550233-399e-4388-d06f-2cdbac978b3f"
      },
      "execution_count": null,
      "outputs": [
        {
          "output_type": "stream",
          "name": "stdout",
          "text": [
            "Total marbles: -16\n"
          ]
        }
      ]
    },
    {
      "cell_type": "code",
      "source": [
        "# 5. Glass Bridge\n",
        "# Create a 1D NumPy array of size 10 with random 0s (broken) and 1s (safe), representing the glass bridge.\n",
        "# Simulate 10 random steps through the bridge.\n",
        "# Check and print if the player survives (steps land only on 1s) or falls (steps land on 0s).\n",
        "\n",
        "glass_bridge=np.random.choice([0,1], size=10)\n",
        "print(glass_bridge)\n",
        "\n",
        "steps=np.random.choice([0,1], size=10)\n",
        "print(steps)"
      ],
      "metadata": {
        "colab": {
          "base_uri": "https://localhost:8080/"
        },
        "id": "5c__Uc1NDdmw",
        "outputId": "e520ee95-7354-42aa-963c-ccedb2c78a1b"
      },
      "execution_count": null,
      "outputs": [
        {
          "output_type": "stream",
          "name": "stdout",
          "text": [
            "[0 0 0 0 1 1 1 0 1 0]\n",
            "[1 1 1 0 0 0 1 0 0 1]\n"
          ]
        }
      ]
    },
    {
      "cell_type": "code",
      "source": [
        "if np.all(glass_bridge[steps==1]==1):\n",
        "  print('Survived')\n",
        "else:\n",
        "  print('Fell')"
      ],
      "metadata": {
        "colab": {
          "base_uri": "https://localhost:8080/"
        },
        "id": "DmqbPfrv31Bq",
        "outputId": "a8b936e0-9734-4770-98e2-fa82ad226736"
      },
      "execution_count": null,
      "outputs": [
        {
          "output_type": "stream",
          "name": "stdout",
          "text": [
            "Fell\n"
          ]
        }
      ]
    }
  ]
}